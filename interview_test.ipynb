{
 "cells": [
  {
   "cell_type": "code",
   "execution_count": 1,
   "metadata": {},
   "outputs": [],
   "source": [
    "import tensorflow as tf\n",
    "import numpy as np\n",
    "import random"
   ]
  },
  {
   "cell_type": "code",
   "execution_count": null,
   "metadata": {},
   "outputs": [],
   "source": [
    "\"\"\"题目1. 数组排序\n",
    "   \n",
    "    要求: 给定以下多维数组，沿第3列，对整个数组进行排序（第三列最终结果从小到大或从大到小均可）.\n",
    "   \n",
    "    示例:\n",
    "        给定:\n",
    "            [[5, 2, 6, 4],\n",
    "             [1, 4, 3, 6],\n",
    "             [0, 1, 10, 2],\n",
    "             [1, 1, 1, 1]]\n",
    "        期望输出:\n",
    "            [[1, 1, 1, 1],\n",
    "             [1, 4, 3, 6],\n",
    "             [5, 2, 6, 4],\n",
    "             [0, 1, 10, 2]]\n",
    "\"\"\""
   ]
  },
  {
   "cell_type": "code",
   "execution_count": 2,
   "metadata": {},
   "outputs": [
    {
     "data": {
      "text/plain": [
       "'\\n作答区\\n'"
      ]
     },
     "execution_count": 2,
     "metadata": {},
     "output_type": "execute_result"
    }
   ],
   "source": [
    "\"\"\"题目1. 作答\"\"\"\n",
    "arr = np.random.randint(0,20,size=[8,6])\n",
    "\"\"\"\n",
    "作答区\n",
    "\"\"\""
   ]
  },
  {
   "cell_type": "code",
   "execution_count": 3,
   "metadata": {},
   "outputs": [
    {
     "data": {
      "text/plain": [
       "array([[ 4,  2,  0,  8,  0,  4],\n",
       "       [15,  1, 18,  5,  0,  4],\n",
       "       [ 5, 16,  5, 11, 13,  4],\n",
       "       [10, 12,  6, 15, 11, 12],\n",
       "       [18, 14, 13, 10, 18,  2],\n",
       "       [15,  0, 16,  2, 13,  2],\n",
       "       [ 9,  5, 19,  6,  3,  9],\n",
       "       [15,  9, 13, 15,  7, 16]])"
      ]
     },
     "execution_count": 3,
     "metadata": {},
     "output_type": "execute_result"
    }
   ],
   "source": [
    "arr"
   ]
  },
  {
   "cell_type": "code",
   "execution_count": 6,
   "metadata": {},
   "outputs": [
    {
     "data": {
      "text/plain": [
       "array([[0, 5, 0, 5, 0, 4],\n",
       "       [2, 1, 2, 1, 1, 5],\n",
       "       [6, 0, 3, 6, 6, 0],\n",
       "       [3, 6, 4, 0, 7, 1],\n",
       "       [1, 7, 7, 4, 3, 2],\n",
       "       [5, 3, 5, 2, 2, 6],\n",
       "       [7, 4, 1, 3, 5, 3],\n",
       "       [4, 2, 6, 7, 4, 7]])"
      ]
     },
     "execution_count": 6,
     "metadata": {},
     "output_type": "execute_result"
    }
   ],
   "source": [
    "index = np.argsort(arr, axis=0)\n",
    "index"
   ]
  },
  {
   "cell_type": "code",
   "execution_count": 12,
   "metadata": {},
   "outputs": [
    {
     "data": {
      "text/plain": [
       "array([[ 4.,  2.,  0.,  8.,  0.,  4.],\n",
       "       [ 5., 16.,  5., 11., 13.,  4.],\n",
       "       [10., 12.,  6., 15., 11., 12.],\n",
       "       [18., 14., 13., 10., 18.,  2.],\n",
       "       [15.,  9., 13., 15.,  7., 16.],\n",
       "       [15.,  0., 16.,  2., 13.,  2.],\n",
       "       [15.,  1., 18.,  5.,  0.,  4.],\n",
       "       [ 9.,  5., 19.,  6.,  3.,  9.]])"
      ]
     },
     "execution_count": 12,
     "metadata": {},
     "output_type": "execute_result"
    }
   ],
   "source": [
    "sorted_arr = np.zeros((8, 6))\n",
    "for i in range(8):\n",
    "    sorted_arr[i, :] = arr[index[i, 2], :]\n",
    "sorted_arr\n",
    "    "
   ]
  },
  {
   "cell_type": "code",
   "execution_count": null,
   "metadata": {},
   "outputs": [],
   "source": []
  }
 ],
 "metadata": {
  "kernelspec": {
   "display_name": "Python 3",
   "language": "python",
   "name": "python3"
  },
  "language_info": {
   "codemirror_mode": {
    "name": "ipython",
    "version": 3
   },
   "file_extension": ".py",
   "mimetype": "text/x-python",
   "name": "python",
   "nbconvert_exporter": "python",
   "pygments_lexer": "ipython3",
   "version": "3.5.2"
  }
 },
 "nbformat": 4,
 "nbformat_minor": 2
}
